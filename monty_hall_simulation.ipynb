{
 "cells": [
  {
   "cell_type": "code",
   "execution_count": 1,
   "metadata": {},
   "outputs": [],
   "source": [
    "import numpy as np\n",
    "import pandas as pd\n",
    "import matplotlib.pyplot as plt\n",
    "plt.style.use('fivethirtyeight')"
   ]
  },
  {
   "cell_type": "markdown",
   "metadata": {},
   "source": [
    "# Monty Hall's Problem \n",
    "## Python Monte Carlo Simulation\n",
    "\n",
    "**Monty Hall problem** is a statistical problem inspired by a popular TV show and named after its host. You can find more information about the problem [here](https://en.wikipedia.org/wiki/Monty_Hall_problem).\n",
    "\n",
    "This notebook presents a Monte Carlo simulation of Monty Hall problem.\n",
    "\n",
    "![Monty Hall](data:image/png;base64,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)"
   ]
  },
  {
   "cell_type": "code",
   "execution_count": 2,
   "metadata": {},
   "outputs": [],
   "source": [
    "# Define parameters\n",
    "n_trials = 100000"
   ]
  },
  {
   "cell_type": "code",
   "execution_count": 3,
   "metadata": {},
   "outputs": [],
   "source": [
    "rwrd   = []\n",
    "change = []\n",
    "\n",
    "\n",
    "for i in range(n_trials):    \n",
    "    all_doors      = [1, 2, 3]                      # All doors\n",
    "    reward         = np.random.choice(all_doors)    # Define where the reward is\n",
    "    primary_choice = np.random.choice(all_doors)    # Define your primary choice\n",
    "        \n",
    "    # Monty opens the door\n",
    "    monty_opens = all_doors.copy()\n",
    "    monty_opens.remove(reward)\n",
    "    \n",
    "    if primary_choice != reward:\n",
    "        monty_opens.remove(primary_choice)\n",
    "    \n",
    "    monty_opens = np.random.choice(monty_opens)\n",
    "     \n",
    "    # You make your choice (stay / change) \n",
    "    to_choose = all_doors.copy()\n",
    "    to_choose.remove(monty_opens)\n",
    "        \n",
    "    secondary_choice = np.random.choice(to_choose)\n",
    "    \n",
    "    # Let's record choices\n",
    "    if secondary_choice == primary_choice:\n",
    "        change.append(0)\n",
    "    else: \n",
    "        change.append(1)\n",
    "            \n",
    "    if secondary_choice == reward:\n",
    "        rwrd.append(1)\n",
    "    else: \n",
    "        rwrd.append(0)"
   ]
  },
  {
   "cell_type": "code",
   "execution_count": 4,
   "metadata": {},
   "outputs": [],
   "source": [
    "# Create a dataframe with results\n",
    "data = pd.DataFrame({'change': change,\n",
    "                     'rwrd': rwrd})"
   ]
  },
  {
   "cell_type": "code",
   "execution_count": 5,
   "metadata": {},
   "outputs": [],
   "source": [
    "# Get statistics\n",
    "values = data.groupby('change').mean().values"
   ]
  },
  {
   "cell_type": "code",
   "execution_count": 6,
   "metadata": {},
   "outputs": [
    {
     "data": {
      "text/plain": [
       "[]"
      ]
     },
     "execution_count": 6,
     "metadata": {},
     "output_type": "execute_result"
    },
    {
     "data": {
      "image/png": "[encoded data removed]",
      "text/plain": [
       "<Figure size 504x360 with 1 Axes>"
      ]
     },
     "metadata": {
      "needs_background": "light"
     },
     "output_type": "display_data"
    }
   ],
   "source": [
    "# Plot the results\n",
    "plt.figure(figsize = (7, 5))\n",
    "\n",
    "plt.bar(x = [0, 1], \n",
    "        height = values.squeeze(),\n",
    "        color = '#9c1e50')\n",
    "plt.title(f\"Monty Hall's Problem\\nMonte Carlo Simulation with {n_trials} trials\")\n",
    "plt.xticks([0, 1])\n",
    "plt.xlabel(\"Switch\")\n",
    "plt.ylabel(\"Probability of winning\")\n",
    "plt.plot()"
   ]
  },
  {
   "cell_type": "markdown",
   "metadata": {},
   "source": [
    "As we can see, switching is much more profitable in the long run than sticking to your first choice."
   ]
  }
 ],
 "metadata": {
  "kernelspec": {
   "display_name": "Python 3",
   "language": "python",
   "name": "python3"
  },
  "language_info": {
   "codemirror_mode": {
    "name": "ipython",
    "version": 3
   },
   "file_extension": ".py",
   "mimetype": "text/x-python",
   "name": "python",
   "nbconvert_exporter": "python",
   "pygments_lexer": "ipython3",
   "version": "3.6.5"
  }
 },
 "nbformat": 4,
 "nbformat_minor": 2
}
